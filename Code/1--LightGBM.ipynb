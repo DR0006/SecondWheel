{
 "cells": [
  {
   "cell_type": "code",
   "execution_count": null,
   "outputs": [],
   "source": [
    "# LightGBMRegressor\n",
    "# 交叉验证 MAE: 473.3349762655072\n",
    "import pandas as pd\n",
    "import numpy as np\n",
    "from sklearn.model_selection import KFold\n",
    "from lightgbm.sklearn import LGBMRegressor\n",
    "from sklearn.metrics import mean_absolute_error\n",
    "\n",
    "# 首先使用 Pandas 库读入训练数据和测试数据，保存到 Train_data 和 Test_data 变量中。\n",
    "Train_data = pd.read_csv('../data/used_car_train_20200313.csv',\n",
    "                         sep=' ')  # handle_used_car_train.csv\n",
    "Test_data = pd.read_csv('../data/used_car_testB_20200421.csv', sep=' ')\n",
    "\n",
    "# 使用 pd.concat() 函数将训练数据和测试数据合并，并保存到 df 变量中。\n",
    "df = pd.concat([Train_data, Test_data], ignore_index=True)"
   ],
   "metadata": {
    "collapsed": false
   }
  },
  {
   "cell_type": "code",
   "execution_count": null,
   "outputs": [],
   "source": [
    "# 对 'price' 做对数变换，使用 np.log1p() 函数。\n",
    "df['price'] = np.log1p(df['price'])"
   ],
   "metadata": {
    "collapsed": false
   }
  },
  {
   "cell_type": "code",
   "execution_count": null,
   "outputs": [],
   "source": [
    "# 用众数填充缺失值\n",
    "df['fuelType'] = df['fuelType'].fillna(0)\n",
    "df['gearbox'] = df['gearbox'].fillna(0)\n",
    "df['bodyType'] = df['bodyType'].fillna(0)\n",
    "df['model'] = df['model'].fillna(0)\n",
    "\n",
    "# 处理异常值，主要是将功率大于 600 的标为 600\n",
    "df['power'] = df['power'].map(lambda x: 600 if x > 600 else x)  # 赛题限定power<=600\n",
    "# 将 ‘notRepairedDamage’ 中的缺失值替换为 None\n",
    "df['notRepairedDamage'] = df['notRepairedDamage'].astype('str').apply(lambda x: x if x != '-' else None).astype(\n",
    "    'float32')\n",
    "\n",
    "# 对可分类的连续特征进行分桶，例如将功率（power）分为 31 组，车型（model）分为 24 组。\n",
    "bin = [i * 10 for i in range(31)]\n",
    "df['power_bin'] = pd.cut(df['power'], bin, labels=False)\n",
    "\n",
    "bin = [i * 10 for i in range(24)]\n",
    "df['model_bin'] = pd.cut(df['model'], bin, labels=False)"
   ],
   "metadata": {
    "collapsed": false
   }
  },
  {
   "cell_type": "code",
   "execution_count": null,
   "outputs": [],
   "source": [
    "# 对日期数据进行处理，主要是提取年，月，日等信息和计算二手车使用时间。\n",
    "from datetime import datetime\n",
    "\n",
    "\n",
    "def date_process(x):\n",
    "    year = int(str(x)[:4])\n",
    "    month = int(str(x)[4:6])\n",
    "    day = int(str(x)[6:8])\n",
    "\n",
    "    if month < 1:\n",
    "        month = 1\n",
    "\n",
    "    date = datetime(year, month, day)\n",
    "    return date\n",
    "\n",
    "\n",
    "df['regDate'] = df['regDate'].apply(date_process)\n",
    "df['creatDate'] = df['creatDate'].apply(date_process)\n",
    "df['regDate_year'] = df['regDate'].dt.year\n",
    "df['regDate_month'] = df['regDate'].dt.month\n",
    "df['regDate_day'] = df['regDate'].dt.day\n",
    "df['creatDate_year'] = df['creatDate'].dt.year\n",
    "df['creatDate_month'] = df['creatDate'].dt.month\n",
    "df['creatDate_day'] = df['creatDate'].dt.day\n",
    "\n",
    "# 使用天数\n",
    "df['car_age_day'] = (df['creatDate'] - df['regDate']).dt.days\n",
    "# 使用年数\n",
    "df['car_age_year'] = round(df['car_age_day'] / 365, 1)\n",
    "\n",
    "# 对行驶路程和功率数据进行统计，例如：计算行驶路程与功率的最大值、最小值、中位数和均值等。\n",
    "kk = ['kilometer', 'power']\n",
    "t1 = Train_data.groupby(kk[0], as_index=False)[kk[1]].agg(\n",
    "    {kk[0] + '_' + kk[1] + '_count': 'count', kk[0] + '_' + kk[1] + '_max': 'max',\n",
    "     kk[0] + '_' + kk[1] + '_median': 'median',\n",
    "     kk[0] + '_' + kk[1] + '_min': 'min', kk[0] + '_' + kk[1] + '_sum': 'sum', kk[0] + '_' + kk[1] + '_std': 'std',\n",
    "     kk[0] + '_' + kk[1] + '_mean': 'mean'})\n",
    "df = pd.merge(df, t1, on=kk[0], how='left')"
   ],
   "metadata": {
    "collapsed": false
   }
  },
  {
   "cell_type": "code",
   "execution_count": null,
   "outputs": [],
   "source": [
    "# 为部分属性列的数据生成新的特征，主要是通过对 V0、V3、V8 和 V12 四个特征进行组合生成新的二元和三元特征。\n",
    "num_cols = [0, 3, 8, 12]\n",
    "for i in num_cols:\n",
    "    for j in num_cols:\n",
    "        df['new' + str(i) + '*' + str(j)] = df['v_' + str(i)] * df['v_' + str(j)]\n",
    "\n",
    "for i in num_cols:\n",
    "    for j in num_cols:\n",
    "        df['new' + str(i) + '+' + str(j)] = df['v_' + str(i)] + df['v_' + str(j)]\n",
    "\n",
    "for i in num_cols:\n",
    "    for j in num_cols:\n",
    "        df['new' + str(i) + '-' + str(j)] = df['v_' + str(i)] - df['v_' + str(j)]\n",
    "\n",
    "for i in range(15):\n",
    "    df['new' + str(i) + '*year'] = df['v_' + str(i)] * df['car_age_year']"
   ],
   "metadata": {
    "collapsed": false
   }
  },
  {
   "cell_type": "markdown",
   "source": [
    "在训练模型的过程中，使用了 LightGBMRegressor 作为模型，采用四个参数（'n_estimators'、'learning_rate'、'num_leaves' 和 'lambda_l2'）进行调参。\n",
    "其中：\n",
    "'n_estimators'：表示树的数量，设置得越多，模型越复杂，训练得越慢。根据经验，一般取 100 至 10000 之间的数。\n",
    "\n",
    "'learning_rate'：表示学习率，是一个重要的参数，取值越小，需要的树的数量越多，训练得越慢，但一般能得到更好的性能。\n",
    "\n",
    "'num_leaves'：表示基分类器的数量，取值越大，模型的复杂度越高，但可能会导致过拟合。\n",
    "\n",
    "'lambda_l2'：表示 L2 正则化系数，取值越大，正则化效果越强，可以防止过拟合。"
   ],
   "metadata": {
    "collapsed": false
   }
  },
  {
   "cell_type": "markdown",
   "source": [
    "在特征工程中，对数据进行了缺失值填充、数据统计和特征组合等操作。这些操作都是为了更好地利用数据中包含的信息，提高模型的性能。\n",
    "\n",
    "在使用 LightGBMRegressor 对数据进行训练时，还使用了 K-Fold 交叉验证（K=4），通过这种方式可以更准确地评估模型的性能，并防止模型过拟合。\n",
    "\n",
    "最终得到的结果通过将五次模型训练得到的结果平均作为最终预测结果，并将结果保存到文件中供提交。"
   ],
   "metadata": {
    "collapsed": false
   }
  },
  {
   "cell_type": "code",
   "execution_count": null,
   "outputs": [],
   "source": [
    "# 使用 LightGBMRegressor 作为模型，对数据进行训练和预测。\n",
    "# 对数据进行五折交叉检验，最后通过将五次模型训练得到的结果平均作为最终预测结果，并将结果保存到文件中供提交。\n",
    "df1 = df.copy()\n",
    "test = df1[df1['price'].isnull()]\n",
    "X_train = df1[df1['price'].notnull()].drop(['price', 'regDate', 'creatDate', 'SaleID', 'regionCode'], axis=1)\n",
    "Y_train = df1[df1['price'].notnull()]['price']\n",
    "X_test = df1[df1['price'].isnull()].drop(['price', 'regDate', 'creatDate', 'SaleID', 'regionCode'], axis=1)\n",
    "# 五折交叉检验\n",
    "cols = list(X_train)\n",
    "oof = np.zeros(X_train.shape[0])\n",
    "sub = test[['SaleID']].copy()\n",
    "sub['price'] = 0\n",
    "feat_df = pd.DataFrame({'feat': cols, 'imp': 0})\n",
    "skf = KFold(n_splits=4, shuffle=True, random_state=2020)\n",
    "\n",
    "clf = LGBMRegressor(\n",
    "    n_estimators=10000,\n",
    "    learning_rate=0.07,  # 0.02,\n",
    "    boosting_type='gbdt',\n",
    "    objective='regression_l1',\n",
    "    max_depth=-1,\n",
    "    num_leaves=31,\n",
    "    min_child_samples=20,\n",
    "    feature_fraction=0.8,\n",
    "    bagging_freq=1,\n",
    "    bagging_fraction=0.8,\n",
    "    lambda_l2=2,\n",
    "    random_state=2020,\n",
    "    metric='mae'\n",
    ")\n",
    "\n",
    "mae = 0\n",
    "for i, (trn_idx, val_idx) in enumerate(skf.split(X_train, Y_train)):\n",
    "    print('--------------------- 第 {} 折 ---------------------'.format(i + 1))\n",
    "    trn_x, trn_y = X_train.iloc[trn_idx].reset_index(drop=True), Y_train[trn_idx]\n",
    "    val_x, val_y = X_train.iloc[val_idx].reset_index(drop=True), Y_train[val_idx]\n",
    "    clf.fit(\n",
    "        trn_x, trn_y,\n",
    "        eval_set=[(val_x, val_y)],\n",
    "        eval_metric='mae',\n",
    "        early_stopping_rounds=300,\n",
    "        verbose=300\n",
    "    )\n",
    "\n",
    "    sub['price'] += np.expm1(clf.predict(X_test)) / skf.n_splits\n",
    "    oof[val_idx] = clf.predict(val_x)\n",
    "    mae += mean_absolute_error(np.expm1(val_y), np.expm1(oof[val_idx])) / skf.n_splits\n",
    "\n",
    "print('交叉验证 MAE:', mae)"
   ],
   "metadata": {
    "collapsed": false
   }
  },
  {
   "cell_type": "code",
   "execution_count": null,
   "outputs": [],
   "source": [
    "# 生成提交文件\n",
    "sub.to_csv('submit.csv', index=False)"
   ],
   "metadata": {
    "collapsed": false
   }
  }
 ],
 "metadata": {
  "kernelspec": {
   "display_name": "Python 3",
   "language": "python",
   "name": "python3"
  },
  "language_info": {
   "codemirror_mode": {
    "name": "ipython",
    "version": 2
   },
   "file_extension": ".py",
   "mimetype": "text/x-python",
   "name": "python",
   "nbconvert_exporter": "python",
   "pygments_lexer": "ipython2",
   "version": "2.7.6"
  }
 },
 "nbformat": 4,
 "nbformat_minor": 0
}
